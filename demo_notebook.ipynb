{
  "cells": [
    {
      "cell_type": "code",
      "execution_count": null,
      "metadata": {
        "vscode": {
          "languageId": "plaintext"
        },
        "id": "wCGkZnzMzjBa"
      },
      "outputs": [],
      "source": [
        "print(\"Hello from GitHub → Colab!\")"
      ]
    },
    {
      "cell_type": "markdown",
      "source": [
        "title here"
      ],
      "metadata": {
        "id": "MkrMNOzVCWWV"
      }
    },
    {
      "cell_type": "code",
      "source": [
        "from google.colab import auth\n",
        "import ee\n",
        "\n",
        "import google\n",
        "import pandas as pd\n",
        "import numpy as np"
      ],
      "metadata": {
        "id": "JevWzR25Dq6u"
      },
      "execution_count": null,
      "outputs": []
    },
    {
      "cell_type": "code",
      "source": [
        "# Authenticate the notebook.\n",
        "# musste als Rechte alle beide aktivieren\n",
        "auth.authenticate_user()"
      ],
      "metadata": {
        "id": "1X-wLCLXCXag"
      },
      "execution_count": null,
      "outputs": []
    },
    {
      "cell_type": "code",
      "source": [
        "# REPLACE WITH YOUR CLOUD PROJECT!\n",
        "PROJECT = 'your-project'\n",
        "\n",
        "\n",
        "# Authenticate to Earth Engine.\n",
        "credentials, _ = google.auth.default()\n",
        "ee.Initialize(credentials, project=PROJECT, opt_url='https://earthengine-highvolume.googleapis.com')"
      ],
      "metadata": {
        "id": "u31pOrnrCcAP"
      },
      "execution_count": null,
      "outputs": []
    },
    {
      "cell_type": "code",
      "source": [
        "# Set the gcloud project for Vertex AI deployment.\n",
        "!gcloud config set project {PROJECT}"
      ],
      "metadata": {
        "id": "Y7MsP9CWCgDI"
      },
      "execution_count": null,
      "outputs": []
    },
    {
      "cell_type": "code",
      "source": [
        "import geemap\n",
        "\n",
        "\n",
        "# The image input data is a 2018 cloud-masked median composite.\n",
        "landsatCollection = ee.ImageCollection('LANDSAT/LC08/C02/T1').filterDate('2018-01-01', '2018-12-31')\n",
        "\n",
        "composite = ee.Algorithms.Landsat.simpleComposite(\n",
        "  collection=landsatCollection,\n",
        "  asFloat=True\n",
        ");\n",
        "\n",
        "# Use geemap to visualize the imagery.\n",
        "Map = geemap.Map(center=(37.8, -122.5), zoom=12)\n",
        "\n",
        "Map.addLayer(\n",
        "    composite,\n",
        "    {'bands': ['B4', 'B3', 'B2'], 'min': 0, 'max': 0.3},\n",
        "    'median composite',\n",
        "    True)"
      ],
      "metadata": {
        "id": "DqLgxMOuDln3"
      },
      "execution_count": null,
      "outputs": []
    },
    {
      "cell_type": "code",
      "source": [
        "Map"
      ],
      "metadata": {
        "id": "u5hrymUFEjfi"
      },
      "execution_count": null,
      "outputs": []
    }
  ],
  "metadata": {
    "language_info": {
      "name": "python"
    },
    "colab": {
      "provenance": []
    },
    "kernelspec": {
      "name": "python3",
      "display_name": "Python 3"
    }
  },
  "nbformat": 4,
  "nbformat_minor": 0
}