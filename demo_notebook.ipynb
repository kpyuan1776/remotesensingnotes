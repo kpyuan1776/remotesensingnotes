{
  "cells": [
    {
      "cell_type": "code",
      "execution_count": 1,
      "metadata": {
        "vscode": {
          "languageId": "plaintext"
        },
        "id": "wCGkZnzMzjBa",
        "outputId": "fb3cde30-0aa4-48c2-d912-fab29ad28863",
        "colab": {
          "base_uri": "https://localhost:8080/"
        }
      },
      "outputs": [
        {
          "output_type": "stream",
          "name": "stdout",
          "text": [
            "Hello from GitHub → Colab!\n"
          ]
        }
      ],
      "source": [
        "print(\"Hello from GitHub → Colab!\")"
      ]
    },
    {
      "cell_type": "markdown",
      "source": [
        "title here"
      ],
      "metadata": {
        "id": "MkrMNOzVCWWV"
      }
    },
    {
      "cell_type": "code",
      "source": [
        "# Authenticate the notebook.\n",
        "auth.authenticate_user()"
      ],
      "metadata": {
        "id": "1X-wLCLXCXag"
      },
      "execution_count": null,
      "outputs": []
    },
    {
      "cell_type": "code",
      "source": [
        "# REPLACE WITH YOUR CLOUD PROJECT!\n",
        "# PROJECT = 'your-project'\n",
        "PROJECT = 'your-project'\n",
        "\n",
        "# Authenticate to Earth Engine.\n",
        "credentials, _ = google.auth.default()\n",
        "ee.Initialize(credentials, project=PROJECT, opt_url='https://earthengine-highvolume.googleapis.com')"
      ],
      "metadata": {
        "id": "u31pOrnrCcAP"
      },
      "execution_count": null,
      "outputs": []
    },
    {
      "cell_type": "code",
      "source": [],
      "metadata": {
        "id": "Y7MsP9CWCgDI"
      },
      "execution_count": null,
      "outputs": []
    }
  ],
  "metadata": {
    "language_info": {
      "name": "python"
    },
    "colab": {
      "provenance": []
    },
    "kernelspec": {
      "name": "python3",
      "display_name": "Python 3"
    }
  },
  "nbformat": 4,
  "nbformat_minor": 0
}